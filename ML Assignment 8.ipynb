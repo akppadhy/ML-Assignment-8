{
 "cells": [
  {
   "cell_type": "code",
   "execution_count": null,
   "id": "c632ad80-75e9-442a-a633-c601fb9b0d06",
   "metadata": {},
   "outputs": [],
   "source": [
    "#1. What exactly is a feature? Give an example to illustrate your point ?\n",
    "\n",
    "Ans: Features are the basic building blocks of datasets. The quality of the features in your dataset has a major impact on the\n",
    "quality of the insights you will gain when you use that dataset for machine learning.\n",
    "\n",
    "Additionally, different business problems within the same industry do not necessarily require the same features, which is why \n",
    "it is important to have a strong understanding of the business goals of your data science project."
   ]
  },
  {
   "cell_type": "code",
   "execution_count": null,
   "id": "3e6c7faa-f685-4d19-b6fe-47eea339bb04",
   "metadata": {},
   "outputs": [],
   "source": [
    "#2.  What are the various circumstances in which feature construction is required ?\n",
    "\n",
    "Ans: The features in your data will directly influence the predictive models you use and the results you can achieve.\n",
    "Your results are dependent on many inter-dependent properties. You need great features that describe the structures inherent\n",
    "in your data. Better features means flexibility."
   ]
  },
  {
   "cell_type": "code",
   "execution_count": null,
   "id": "c9f4bc48-cd71-4f4b-af45-db7a54e01e8c",
   "metadata": {},
   "outputs": [],
   "source": [
    "#3. Describe how nominal variables are encoded ?\n",
    "\n",
    "Ans: Nominal data is made of discrete values with no numerical relationship between the different categories — mean and median \n",
    "are meaningless. Animal species is one example. For example, pig is not higher than bird and lower than fish."
   ]
  },
  {
   "cell_type": "code",
   "execution_count": null,
   "id": "ab29e2ab-cdf9-4cea-83b9-af63d8df686b",
   "metadata": {},
   "outputs": [],
   "source": [
    "#4. Describe how numeric features are converted to categorical features ?\n",
    "\n",
    "Ans: Converting categorical features into numeric features using domain knowledge. For example, we are given a list of countries\n",
    "and say we know the distance to these countries from India then we can replace it with distance from India. So, every country \n",
    "can be represented as its distance from India."
   ]
  },
  {
   "cell_type": "code",
   "execution_count": null,
   "id": "d4aa908c-ed19-490f-9d2f-0c30c7b31014",
   "metadata": {},
   "outputs": [],
   "source": [
    "#5.  Describe the feature selection wrapper approach. State the advantages and disadvantages of this approach ?\n",
    "\n",
    "Ans: Wrapper methods measure the “usefulness” of features based on the classifier performance. In contrast, the filter methods \n",
    "pick up the intrinsic properties of the features (i.e., the “relevance” of the features) measured via univariate statistics \n",
    "instead of cross-validation performance.\n",
    "\n",
    "The wrapper classification algorithms with joint dimensionality reduction and classification can also be used but these methods \n",
    "have high computation cost, lower discriminative power. Moreover, these methods depend on the efficient selection of classifiers \n",
    "for obtaining high accuracy"
   ]
  },
  {
   "cell_type": "code",
   "execution_count": null,
   "id": "d09d1946-b5a2-4f15-bf57-04489c6b4b6d",
   "metadata": {},
   "outputs": [],
   "source": [
    "#6. When is a feature considered irrelevant? What can be said to quantify it ?\n",
    "\n",
    "Ans: Features are considered relevant if they are either strongly or weakly relevant, and are considered irrelevant otherwise.\n",
    "\n",
    "Irrelevant features can never contribute to prediction accuracy, by definition. Also to quantify it we need to first check the \n",
    "list of features, There are three types of feature selection:\n",
    "\n",
    "*Wrapper methods (forward, backward, and stepwise selection)\n",
    "*Filter methods (ANOVA, Pearson correlation, variance thresholding)\n",
    "*Embedded methods (Lasso, Ridge, Decision Tree)."
   ]
  },
  {
   "cell_type": "code",
   "execution_count": null,
   "id": "85259c29-0432-4ecd-95b3-d19d39dca9ee",
   "metadata": {},
   "outputs": [],
   "source": [
    "#7. When is a function considered redundant? What criteria are used to identify features that could be redundant ?\n",
    "\n",
    "Ans: If two features {X1, X2} are highly correlated, then the two features become redundant features since they have same \n",
    "information in terms of correlation measure. In other words, the correlation measure provides statistical association between \n",
    "any given a pair of features.\n",
    "\n",
    "Minimum redundancy feature selection is an algorithm frequently used in a method to accurately identify characteristics of genes \n",
    "and phenotypes"
   ]
  },
  {
   "cell_type": "code",
   "execution_count": null,
   "id": "e06d415a-c963-4992-8af5-0bfd837d0822",
   "metadata": {},
   "outputs": [],
   "source": [
    "#8. What are the various distance measurements used to determine feature similarity ?\n",
    "\n",
    "Ans: Four of the most commonly used distance measures in machine learning are as follows:\n",
    "\n",
    "*Hamming Distance.\n",
    "*Euclidean Distance\n",
    "*Manhattan Distance."
   ]
  },
  {
   "cell_type": "code",
   "execution_count": null,
   "id": "a632c1ca-6157-4f3e-8a37-83a415c10b9e",
   "metadata": {},
   "outputs": [],
   "source": [
    "#9. State difference between Euclidean and Manhattan distances ?\n",
    "\n",
    "Ans: Euclidean & Hamming distances are used to measure similarity or dissimilarity between two sequences. Euclidean distance is\n",
    "extensively applied in analysis of convolutional codes and Trellis codes.\n",
    "\n",
    "Hamming distance is frequently encountered in the analysis of block codes."
   ]
  },
  {
   "cell_type": "code",
   "execution_count": null,
   "id": "9153c038-1077-4bfc-b48a-77e07dfd4b28",
   "metadata": {},
   "outputs": [],
   "source": [
    "#10. Distinguish between feature transformation and feature selection ?\n",
    "\n",
    "Ans: Feature selection is for filtering irrelevant or redundant features from your dataset. The key difference between feature\n",
    "selection and extraction is that feature selection keeps a subset of the original features while feature extraction creates \n",
    "brand new ones.\n"
   ]
  },
  {
   "cell_type": "code",
   "execution_count": null,
   "id": "0b1bec1f-8b60-46cb-9331-459200381482",
   "metadata": {},
   "outputs": [],
   "source": [
    "#11. Make brief notes on any two of the following:\n",
    "#SVD (Standard Variable Diameter Diameter)\n",
    "#Collection of features using a hybrid approach\n",
    "#The width of the silhouette\n",
    "#Receiver operating characteristic curve\n",
    "\n",
    "Ans: Brief notes on any two topics are:-\n",
    "1.SVD (Singular Value Decomposition):\n",
    "*SVD is a matrix factorization technique that breaks down a matrix into three separate matrices: U, Σ, and V.\n",
    "*U represents the left singular vectors, Σ is a diagonal matrix containing the singular values, and V represents the right singular vectors.\n",
    "*SVD is commonly used in various applications such as image compression, data analysis, and recommendation systems.\n",
    "*It has applications in dimensionality reduction, where it can be used to identify important features or reduce noise in a dataset.\n",
    "*SVD is also used in collaborative filtering techniques for recommendation systems, where it helps in discovering latent factors and predicting user preferences.\n",
    "\n",
    "2.The width of the silhouette:\n",
    "*The silhouette width is a measure of how well-separated clusters are in a clustering algorithm.\n",
    "*It quantifies the compactness and separation of clusters in a dataset.\n",
    "*The silhouette width is calculated for each data point and ranges from -1 to 1.\n",
    "*A value close to 1 indicates that the data point is well-clustered within its own cluster and far from neighboring clusters.\n",
    "*A value close to 0 suggests that the data point is on or very close to the decision boundary between two neighboring clusters.\n",
    "*A negative value indicates that the data point may have been assigned to the wrong cluster.\n"
   ]
  }
 ],
 "metadata": {
  "kernelspec": {
   "display_name": "Python 3 (ipykernel)",
   "language": "python",
   "name": "python3"
  },
  "language_info": {
   "codemirror_mode": {
    "name": "ipython",
    "version": 3
   },
   "file_extension": ".py",
   "mimetype": "text/x-python",
   "name": "python",
   "nbconvert_exporter": "python",
   "pygments_lexer": "ipython3",
   "version": "3.10.6"
  }
 },
 "nbformat": 4,
 "nbformat_minor": 5
}
